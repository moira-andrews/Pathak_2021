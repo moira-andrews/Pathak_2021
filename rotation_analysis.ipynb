{
 "cells": [
  {
   "cell_type": "code",
   "execution_count": 1,
   "id": "1eb83deb-1003-454e-a889-9fdb66ca7f1a",
   "metadata": {},
   "outputs": [],
   "source": [
    "from velocity import get\n",
    "from velocity.velocity_data import rotational_data\n",
    "import matplotlib.pyplot as plt\n",
    "import numpy as np\n",
    "from pathlib import Path\n",
    "import h5py\n",
    "import csv\n",
    "import os"
   ]
  },
  {
   "cell_type": "code",
   "execution_count": 2,
   "id": "e90c0650-9282-45ae-9c18-7bac11d7c79b",
   "metadata": {},
   "outputs": [],
   "source": [
    "with h5py.File('galaxy_population_data_'+str(2)+'.hdf5', 'r') as f:\n",
    "    ids = f['ids'][:]"
   ]
  },
  {
   "cell_type": "code",
   "execution_count": 3,
   "id": "454f5d18-a82b-477c-8931-7b9ea39e178e",
   "metadata": {},
   "outputs": [
    {
     "name": "stdout",
     "output_type": "stream",
     "text": [
      "Galaxy ID: \tGalaxy Number: \n",
      "0\t\t0.9290349\n",
      "1\t\t0.3167215\n",
      "2\t\t0.23659727\n",
      "3\t\t0.16458674\n",
      "4\t\t0.24859549\n",
      "1502\t\t0.59502167\n",
      "1503\t\t0.39529392\n",
      "1504\t\t0.52855814\n",
      "1505\t\t0.24631128\n",
      "1507\t\t0.71916175\n",
      "1510\t\t0.73124605\n",
      "2966\t\t0.33187833\n",
      "2967\t\t0.7048577\n",
      "2968\t\t0.47048154\n",
      "2969\t\t0.27906257\n",
      "2970\t\t0.12175579\n",
      "2971\t\t0.14723693\n",
      "2972\t\t0.19650449\n",
      "2973\t\t0.45609358\n",
      "2974\t\t0.25661013\n",
      "2975\t\t0.21190768\n",
      "2977\t\t0.20537908\n",
      "4562\t\t1.0275753\n",
      "4563\t\t0.3240643\n",
      "4567\t\t0.2715514\n",
      "5584\t\t0.9145173\n",
      "5585\t\t0.5845914\n",
      "5586\t\t0.7796181\n",
      "5587\t\t0.14721377\n",
      "6630\t\t0.6337537\n",
      "6631\t\t0.251376\n",
      "6632\t\t0.10361233\n",
      "7817\t\t0.52581286\n",
      "7819\t\t0.101787396\n",
      "8712\t\t0.4684141\n",
      "8713\t\t0.28938544\n",
      "8714\t\t0.16163367\n",
      "8715\t\t0.28495562\n",
      "8717\t\t0.20116735\n",
      "9918\t\t0.9115161\n",
      "9920\t\t0.25392434\n",
      "9921\t\t0.31862798\n"
     ]
    },
    {
     "ename": "KeyError",
     "evalue": "\"Unable to open object (object 'PartType0' doesn't exist)\"",
     "output_type": "error",
     "traceback": [
      "\u001b[1;31m---------------------------------------------------------------------------\u001b[0m",
      "\u001b[1;31mKeyError\u001b[0m                                  Traceback (most recent call last)",
      "\u001b[1;32m<ipython-input-3-6976aec80192>\u001b[0m in \u001b[0;36m<module>\u001b[1;34m\u001b[0m\n\u001b[0;32m      8\u001b[0m         \u001b[0mid\u001b[0m \u001b[1;33m=\u001b[0m \u001b[0mids\u001b[0m\u001b[1;33m[\u001b[0m\u001b[0mi\u001b[0m\u001b[1;33m]\u001b[0m\u001b[1;33m\u001b[0m\u001b[1;33m\u001b[0m\u001b[0m\n\u001b[0;32m      9\u001b[0m \u001b[1;33m\u001b[0m\u001b[0m\n\u001b[1;32m---> 10\u001b[1;33m         \u001b[0mr\u001b[0m\u001b[1;33m,\u001b[0m \u001b[0mvel_circ\u001b[0m\u001b[1;33m,\u001b[0m \u001b[0mv_r\u001b[0m\u001b[1;33m,\u001b[0m \u001b[0me_v\u001b[0m\u001b[1;33m,\u001b[0m \u001b[0mbins\u001b[0m\u001b[1;33m,\u001b[0m \u001b[0mmass_num\u001b[0m \u001b[1;33m=\u001b[0m \u001b[0mrotational_data\u001b[0m\u001b[1;33m(\u001b[0m\u001b[0mid\u001b[0m\u001b[1;33m)\u001b[0m\u001b[1;33m\u001b[0m\u001b[1;33m\u001b[0m\u001b[0m\n\u001b[0m\u001b[0;32m     11\u001b[0m \u001b[1;33m\u001b[0m\u001b[0m\n\u001b[0;32m     12\u001b[0m         \u001b[1;31m#plt.plot(r,vel_circ, label = \"v_circ\")\u001b[0m\u001b[1;33m\u001b[0m\u001b[1;33m\u001b[0m\u001b[1;33m\u001b[0m\u001b[0m\n",
      "\u001b[1;32mD:\\moira\\TNG work\\Pathak_2021\\velocity\\velocity_data.py\u001b[0m in \u001b[0;36mrotational_data\u001b[1;34m(id)\u001b[0m\n\u001b[0;32m    156\u001b[0m     \u001b[0murl\u001b[0m \u001b[1;33m=\u001b[0m \u001b[1;34m\"http://www.tng-project.org/api/TNG100-1/snapshots/z=\"\u001b[0m \u001b[1;33m+\u001b[0m \u001b[0mstr\u001b[0m\u001b[1;33m(\u001b[0m\u001b[0mredshift\u001b[0m\u001b[1;33m)\u001b[0m \u001b[1;33m+\u001b[0m \u001b[1;34m\"/subhalos/\"\u001b[0m \u001b[1;33m+\u001b[0m \u001b[0mstr\u001b[0m\u001b[1;33m(\u001b[0m\u001b[0mid\u001b[0m\u001b[1;33m)\u001b[0m\u001b[1;33m\u001b[0m\u001b[1;33m\u001b[0m\u001b[0m\n\u001b[0;32m    157\u001b[0m \u001b[1;33m\u001b[0m\u001b[0m\n\u001b[1;32m--> 158\u001b[1;33m     \u001b[0mr\u001b[0m\u001b[1;33m,\u001b[0m\u001b[0mvel_circ\u001b[0m \u001b[1;33m=\u001b[0m \u001b[0mfind_circ_vel\u001b[0m\u001b[1;33m(\u001b[0m\u001b[0mid\u001b[0m\u001b[1;33m)\u001b[0m\u001b[1;33m\u001b[0m\u001b[1;33m\u001b[0m\u001b[0m\n\u001b[0m\u001b[0;32m    159\u001b[0m \u001b[1;33m\u001b[0m\u001b[0m\n\u001b[0;32m    160\u001b[0m     \u001b[0mpos\u001b[0m\u001b[1;33m,\u001b[0m\u001b[0mvel_raw\u001b[0m\u001b[1;33m,\u001b[0m\u001b[0mstar_masses\u001b[0m \u001b[1;33m=\u001b[0m \u001b[0mstar_pos_vel\u001b[0m\u001b[1;33m(\u001b[0m\u001b[0mid\u001b[0m\u001b[1;33m)\u001b[0m\u001b[1;33m\u001b[0m\u001b[1;33m\u001b[0m\u001b[0m\n",
      "\u001b[1;32mD:\\moira\\TNG work\\Pathak_2021\\velocity\\velocity_data.py\u001b[0m in \u001b[0;36mfind_circ_vel\u001b[1;34m(id)\u001b[0m\n\u001b[0;32m     91\u001b[0m     \u001b[0mstars\u001b[0m \u001b[1;33m=\u001b[0m \u001b[1;34m'stars'\u001b[0m\u001b[1;33m\u001b[0m\u001b[1;33m\u001b[0m\u001b[0m\n\u001b[0;32m     92\u001b[0m \u001b[1;33m\u001b[0m\u001b[0m\n\u001b[1;32m---> 93\u001b[1;33m     \u001b[0mmass_dm\u001b[0m\u001b[1;33m,\u001b[0m\u001b[0mmass_gas\u001b[0m\u001b[1;33m,\u001b[0m\u001b[0mr_gas\u001b[0m \u001b[1;33m=\u001b[0m \u001b[0mparticle_type\u001b[0m\u001b[1;33m(\u001b[0m\u001b[0mg\u001b[0m\u001b[1;33m,\u001b[0m\u001b[0mid\u001b[0m\u001b[1;33m)\u001b[0m\u001b[1;33m\u001b[0m\u001b[1;33m\u001b[0m\u001b[0m\n\u001b[0m\u001b[0;32m     94\u001b[0m     \u001b[0mmass_dm\u001b[0m\u001b[1;33m,\u001b[0m\u001b[0mmass_stars\u001b[0m\u001b[1;33m,\u001b[0m\u001b[0mr_stars\u001b[0m \u001b[1;33m=\u001b[0m \u001b[0mparticle_type\u001b[0m\u001b[1;33m(\u001b[0m\u001b[0mstars\u001b[0m\u001b[1;33m,\u001b[0m\u001b[0mid\u001b[0m\u001b[1;33m)\u001b[0m\u001b[1;33m\u001b[0m\u001b[1;33m\u001b[0m\u001b[0m\n\u001b[0;32m     95\u001b[0m \u001b[1;33m\u001b[0m\u001b[0m\n",
      "\u001b[1;32mD:\\moira\\TNG work\\Pathak_2021\\velocity\\velocity_data.py\u001b[0m in \u001b[0;36mparticle_type\u001b[1;34m(matter, id)\u001b[0m\n\u001b[0;32m     41\u001b[0m         \u001b[1;31m# NOTE! If the subhalo is near the edge of the box, you must take the\u001b[0m\u001b[1;33m\u001b[0m\u001b[1;33m\u001b[0m\u001b[1;33m\u001b[0m\u001b[0m\n\u001b[0;32m     42\u001b[0m         \u001b[1;31m# periodic boundary into account! (we ignore it here)\u001b[0m\u001b[1;33m\u001b[0m\u001b[1;33m\u001b[0m\u001b[1;33m\u001b[0m\u001b[0m\n\u001b[1;32m---> 43\u001b[1;33m         \u001b[0mdx\u001b[0m \u001b[1;33m=\u001b[0m \u001b[0mf\u001b[0m\u001b[1;33m[\u001b[0m\u001b[0mpart_type\u001b[0m\u001b[1;33m]\u001b[0m\u001b[1;33m[\u001b[0m\u001b[1;34m'Coordinates'\u001b[0m\u001b[1;33m]\u001b[0m\u001b[1;33m[\u001b[0m\u001b[1;33m:\u001b[0m\u001b[1;33m,\u001b[0m\u001b[1;36m0\u001b[0m\u001b[1;33m]\u001b[0m \u001b[1;33m-\u001b[0m \u001b[0msub\u001b[0m\u001b[1;33m[\u001b[0m\u001b[1;34m'pos_x'\u001b[0m\u001b[1;33m]\u001b[0m\u001b[1;33m\u001b[0m\u001b[1;33m\u001b[0m\u001b[0m\n\u001b[0m\u001b[0;32m     44\u001b[0m         \u001b[0mdy\u001b[0m \u001b[1;33m=\u001b[0m \u001b[0mf\u001b[0m\u001b[1;33m[\u001b[0m\u001b[0mpart_type\u001b[0m\u001b[1;33m]\u001b[0m\u001b[1;33m[\u001b[0m\u001b[1;34m'Coordinates'\u001b[0m\u001b[1;33m]\u001b[0m\u001b[1;33m[\u001b[0m\u001b[1;33m:\u001b[0m\u001b[1;33m,\u001b[0m\u001b[1;36m1\u001b[0m\u001b[1;33m]\u001b[0m \u001b[1;33m-\u001b[0m \u001b[0msub\u001b[0m\u001b[1;33m[\u001b[0m\u001b[1;34m'pos_y'\u001b[0m\u001b[1;33m]\u001b[0m\u001b[1;33m\u001b[0m\u001b[1;33m\u001b[0m\u001b[0m\n\u001b[0;32m     45\u001b[0m         \u001b[0mdz\u001b[0m \u001b[1;33m=\u001b[0m \u001b[0mf\u001b[0m\u001b[1;33m[\u001b[0m\u001b[0mpart_type\u001b[0m\u001b[1;33m]\u001b[0m\u001b[1;33m[\u001b[0m\u001b[1;34m'Coordinates'\u001b[0m\u001b[1;33m]\u001b[0m\u001b[1;33m[\u001b[0m\u001b[1;33m:\u001b[0m\u001b[1;33m,\u001b[0m\u001b[1;36m2\u001b[0m\u001b[1;33m]\u001b[0m \u001b[1;33m-\u001b[0m \u001b[0msub\u001b[0m\u001b[1;33m[\u001b[0m\u001b[1;34m'pos_z'\u001b[0m\u001b[1;33m]\u001b[0m\u001b[1;33m\u001b[0m\u001b[1;33m\u001b[0m\u001b[0m\n",
      "\u001b[1;32mh5py\\_objects.pyx\u001b[0m in \u001b[0;36mh5py._objects.with_phil.wrapper\u001b[1;34m()\u001b[0m\n",
      "\u001b[1;32mh5py\\_objects.pyx\u001b[0m in \u001b[0;36mh5py._objects.with_phil.wrapper\u001b[1;34m()\u001b[0m\n",
      "\u001b[1;32m~\\anaconda\\envs\\astro\\lib\\site-packages\\h5py\\_hl\\group.py\u001b[0m in \u001b[0;36m__getitem__\u001b[1;34m(self, name)\u001b[0m\n\u001b[0;32m    262\u001b[0m                 \u001b[1;32mraise\u001b[0m \u001b[0mValueError\u001b[0m\u001b[1;33m(\u001b[0m\u001b[1;34m\"Invalid HDF5 object reference\"\u001b[0m\u001b[1;33m)\u001b[0m\u001b[1;33m\u001b[0m\u001b[1;33m\u001b[0m\u001b[0m\n\u001b[0;32m    263\u001b[0m         \u001b[1;32melse\u001b[0m\u001b[1;33m:\u001b[0m\u001b[1;33m\u001b[0m\u001b[1;33m\u001b[0m\u001b[0m\n\u001b[1;32m--> 264\u001b[1;33m             \u001b[0moid\u001b[0m \u001b[1;33m=\u001b[0m \u001b[0mh5o\u001b[0m\u001b[1;33m.\u001b[0m\u001b[0mopen\u001b[0m\u001b[1;33m(\u001b[0m\u001b[0mself\u001b[0m\u001b[1;33m.\u001b[0m\u001b[0mid\u001b[0m\u001b[1;33m,\u001b[0m \u001b[0mself\u001b[0m\u001b[1;33m.\u001b[0m\u001b[0m_e\u001b[0m\u001b[1;33m(\u001b[0m\u001b[0mname\u001b[0m\u001b[1;33m)\u001b[0m\u001b[1;33m,\u001b[0m \u001b[0mlapl\u001b[0m\u001b[1;33m=\u001b[0m\u001b[0mself\u001b[0m\u001b[1;33m.\u001b[0m\u001b[0m_lapl\u001b[0m\u001b[1;33m)\u001b[0m\u001b[1;33m\u001b[0m\u001b[1;33m\u001b[0m\u001b[0m\n\u001b[0m\u001b[0;32m    265\u001b[0m \u001b[1;33m\u001b[0m\u001b[0m\n\u001b[0;32m    266\u001b[0m         \u001b[0motype\u001b[0m \u001b[1;33m=\u001b[0m \u001b[0mh5i\u001b[0m\u001b[1;33m.\u001b[0m\u001b[0mget_type\u001b[0m\u001b[1;33m(\u001b[0m\u001b[0moid\u001b[0m\u001b[1;33m)\u001b[0m\u001b[1;33m\u001b[0m\u001b[1;33m\u001b[0m\u001b[0m\n",
      "\u001b[1;32mh5py\\_objects.pyx\u001b[0m in \u001b[0;36mh5py._objects.with_phil.wrapper\u001b[1;34m()\u001b[0m\n",
      "\u001b[1;32mh5py\\_objects.pyx\u001b[0m in \u001b[0;36mh5py._objects.with_phil.wrapper\u001b[1;34m()\u001b[0m\n",
      "\u001b[1;32mh5py\\h5o.pyx\u001b[0m in \u001b[0;36mh5py.h5o.open\u001b[1;34m()\u001b[0m\n",
      "\u001b[1;31mKeyError\u001b[0m: \"Unable to open object (object 'PartType0' doesn't exist)\""
     ]
    }
   ],
   "source": [
    "os.remove(\"galaxy_num.csv\")\n",
    "print(\"Galaxy ID: \" + \"\\tGalaxy Number: \")\n",
    "with open('galaxy_num.csv', 'w',newline='') as f:\n",
    "    fieldnames = ['Galaxy ID', 'Galaxy Number']\n",
    "    writer = csv.DictWriter(f, fieldnames=fieldnames)\n",
    "    writer.writeheader()\n",
    "    for i in range(100): \n",
    "        id = ids[i]\n",
    "\n",
    "        r, vel_circ, v_r, e_v, bins, mass_num = rotational_data(id)\n",
    "        \n",
    "        #plt.plot(r,vel_circ, label = \"v_circ\")\n",
    "        #plt.plot(r,v_r, label = \"v_r\")\n",
    "\n",
    "\n",
    "        #plt.xlabel(\"Radius (kpc)\")\n",
    "        #plt.ylabel(\"Orbital Speed (km/s)\")\n",
    "        #plt.title(\"Orbital Speed vs Radius\")\n",
    "        #plt.savefig(\"OrbitalVel_tot.png\",dpi=200)\n",
    "\n",
    "        #plt.show()\n",
    "        \n",
    "        \n",
    "        print(str(id) + \"\\t\\t\" + str(mass_num))\n",
    "\n",
    "        writer.writerow({'Galaxy ID': str(id), 'Galaxy Number': str(mass_num)})\n",
    "       \n",
    "    f.close()"
   ]
  }
 ],
 "metadata": {
  "kernelspec": {
   "display_name": "Python 3",
   "language": "python",
   "name": "python3"
  },
  "language_info": {
   "codemirror_mode": {
    "name": "ipython",
    "version": 3
   },
   "file_extension": ".py",
   "mimetype": "text/x-python",
   "name": "python",
   "nbconvert_exporter": "python",
   "pygments_lexer": "ipython3",
   "version": "3.6.13"
  }
 },
 "nbformat": 4,
 "nbformat_minor": 5
}

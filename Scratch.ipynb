{
 "cells": [
  {
   "cell_type": "code",
   "execution_count": 1,
   "id": "f405935e-b7d3-4eb0-98ed-05d2db6d6b5b",
   "metadata": {},
   "outputs": [],
   "source": [
    "import matplotlib.pyplot as plt\n",
    "import numpy as np\n",
    "import h5py\n",
    "import warnings\n",
    "import scipy\n",
    "from velocity.velocity_data import age_vel_disp\n",
    "from simulation_data import get\n",
    "from simulation_data.galaxies import GalaxyPopulation\n",
    "my_galaxy_population = GalaxyPopulation()\n",
    "from simulation_data.galaxies.galaxy import age_profile, get_star_formation_history, get_galaxy_particle_data, get_stellar_assembly_data"
   ]
  },
  {
   "cell_type": "code",
   "execution_count": 2,
   "id": "602f45de-0f96-4b9c-9d2f-e6a8d58f750e",
   "metadata": {
    "tags": []
   },
   "outputs": [],
   "source": [
    "with h5py.File('galaxy_population_data_'+str(2)+'.hdf5', 'r') as f:\n",
    "    ids = f['ids'][:]\n",
    "    median_age = f['median_age'][:]\n",
    "    halfmass_radius = f['halfmass_radius'][:]\n",
    "    total_mass = f['total_mass'][:]\n",
    "    newbin_current_SFR = f['newbin_current_SFR'][:]\n",
    "    maximum_merger_ratio_30kpc_current_fraction = f['maximum_merger_ratio_30kpc_current_fraction'][:]\n",
    "    lam = f['lam'][:]\n",
    "    bulge_ratio = f['bulge_ratio'][:]\n",
    "    ellipticity = f['ellipticity'][:]\n",
    "    lambda_obs = f['lambda_obs'][:]\n",
    "    lam_effec = f['lam_effective'][:]\n",
    "    eps_effec = f['ellipticity_effective'][:]"
   ]
  },
  {
   "cell_type": "code",
   "execution_count": 16,
   "id": "82a1f900-5b10-4f9e-ada6-506962edc31e",
   "metadata": {},
   "outputs": [
    {
     "name": "stdout",
     "output_type": "stream",
     "text": [
      "[    0     1     2 ... 37649 37750 38560] [    0     1     2 ... 41702 41703 41706] [0.99778571 0.98206827 0.98425592 ... 0.0518746  0.98579865 0.6812351 ]\n"
     ]
    }
   ],
   "source": [
    "id = ids[7]\n",
    "vel_disp_young,vel_disp_old,vel_disp_tot = age_vel_disp(id)"
   ]
  },
  {
   "cell_type": "code",
   "execution_count": 17,
   "id": "f8f53cc8-dac0-45e4-b12f-2f89d365cfcc",
   "metadata": {},
   "outputs": [
    {
     "data": {
      "text/plain": [
       "<matplotlib.collections.PathCollection at 0x2ceaa1db7f0>"
      ]
     },
     "execution_count": 17,
     "metadata": {},
     "output_type": "execute_result"
    },
    {
     "data": {
      "image/png": "[encoded data removed]",
      "text/plain": [
       "<Figure size 432x288 with 1 Axes>"
      ]
     },
     "metadata": {
      "needs_background": "light"
     },
     "output_type": "display_data"
    }
   ],
   "source": [
    "plt.scatter(vel_disp_young,vel_disp_tot)"
   ]
  },
  {
   "cell_type": "code",
   "execution_count": null,
   "id": "e0a98933-99c7-4329-b9a3-5b0ad743ab39",
   "metadata": {},
   "outputs": [],
   "source": []
  }
 ],
 "metadata": {
  "kernelspec": {
   "display_name": "Python 3",
   "language": "python",
   "name": "python3"
  },
  "language_info": {
   "codemirror_mode": {
    "name": "ipython",
    "version": 3
   },
   "file_extension": ".py",
   "mimetype": "text/x-python",
   "name": "python",
   "nbconvert_exporter": "python",
   "pygments_lexer": "ipython3",
   "version": "3.6.13"
  }
 },
 "nbformat": 4,
 "nbformat_minor": 5
}

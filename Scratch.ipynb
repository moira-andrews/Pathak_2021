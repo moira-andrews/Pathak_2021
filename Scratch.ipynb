{
 "cells": [
  {
   "cell_type": "code",
   "execution_count": 1,
   "id": "f405935e-b7d3-4eb0-98ed-05d2db6d6b5b",
   "metadata": {},
   "outputs": [],
   "source": [
    "import matplotlib.pyplot as plt\n",
    "import numpy as np\n",
    "import h5py\n",
    "import warnings\n",
    "import scipy\n",
    "from simulation_data import get\n",
    "from velocity.velocity_data import star_pos_vel\n",
    "from velocity.velocity_data import get_ellipticity\n",
    "from velocity.velocity_data import rotational_data\n",
    "from simulation_data.galaxies import GalaxyPopulation\n",
    "my_galaxy_population = GalaxyPopulation()\n",
    "from simulation_data.galaxies.galaxy import age_profile, get_star_formation_history, get_galaxy_particle_data, get_stellar_assembly_data"
   ]
  },
  {
   "cell_type": "code",
   "execution_count": 7,
   "id": "602f45de-0f96-4b9c-9d2f-e6a8d58f750e",
   "metadata": {},
   "outputs": [
    {
     "name": "stdout",
     "output_type": "stream",
     "text": [
      "<KeysViewHDF5 []>\n"
     ]
    }
   ],
   "source": [
    "with h5py.File('galaxy_population_data_'+str(2)+'.hdf5', 'r') as f:\n",
    "    print(f.keys())\n",
    "    \n",
    "    #ids = f['ids'][:]\n",
    "    #median_age = f['median_age'][:]\n",
    "    #halfmass_radius = f['halfmass_radius'][:]\n",
    "    #total_mass = f['total_mass'][:]\n",
    "    #newbin_current_SFR = f['newbin_current_SFR'][:]\n",
    "    #maximum_merger_ratio_30kpc_current_fraction = f['maximum_merger_ratio_30kpc_current_fraction'][:]\n",
    "    #lam = f['lam'][:]\n",
    "    #bulge_ratio = f['bulge_ratio'][:]"
   ]
  },
  {
   "cell_type": "code",
   "execution_count": 3,
   "id": "fc771727-8caf-4b13-8b35-91cfe12518a5",
   "metadata": {},
   "outputs": [],
   "source": [
    "warnings.filterwarnings('ignore')\n",
    "\n",
    "PSB_selection = (median_age<=1.2)&(np.log10(newbin_current_SFR/10**(total_mass))<=-10.5)\n",
    "intermediate_quiescent_selection = (median_age>1.2)&(median_age<=1.5)&(np.log10(newbin_current_SFR/10**(total_mass))<=-10.5)\n",
    "old_quiescent_selection = (median_age>1.5)&(np.log10(newbin_current_SFR/10**(total_mass))<=-10.5)\n",
    "starforming_selection = (np.log10(newbin_current_SFR/10**(total_mass))>-10.5)"
   ]
  },
  {
   "cell_type": "markdown",
   "id": "fe75bdea-bd13-40db-ae0c-3535c01c0f43",
   "metadata": {},
   "source": [
    "lambda vs epsilon"
   ]
  },
  {
   "cell_type": "code",
   "execution_count": 11,
   "id": "abc81f92-a011-493a-849a-f15012388212",
   "metadata": {},
   "outputs": [
    {
     "name": "stdout",
     "output_type": "stream",
     "text": [
      "[False False False ... False False False]\n"
     ]
    }
   ],
   "source": [
    "i_list = [0,2,6]\n",
    "lam_plt = []\n",
    "eps_plt = []"
   ]
  },
  {
   "cell_type": "code",
   "execution_count": 9,
   "id": "f7d969a3-694f-496a-9825-1a2f740f1dea",
   "metadata": {},
   "outputs": [
    {
     "data": {
      "image/png": "[encoded data removed]",
      "text/plain": [
       "<Figure size 432x288 with 1 Axes>"
      ]
     },
     "metadata": {
      "needs_background": "light"
     },
     "output_type": "display_data"
    }
   ],
   "source": [
    "for i in i_list:\n",
    "    id = ids[i]\n",
    "    pos,vel_raw,star_masses,cor_pos = star_pos_vel(id)\n",
    "    r, vel_circ, v_r, r_v_r, lam, bins, mass_num, vel, radius, v_phi,lambda_obs = rotational_data(id,'')\n",
    "    cov  = np.cov(cor_pos.T)\n",
    "    w, v = la.eig(cov)\n",
    "    minor = np.min(np.float32(w))\n",
    "    major = np.max(np.float32(w))\n",
    "    ellipticity = 1.0-minor/major\n",
    "    plt.scatter(ellipticity,lambda_obs, label = \"ID = \" + str(id))\n",
    "    plt.legend()\n",
    "    lam_plt.append(lam)\n",
    "    eps_plt.append(ellipticity)"
   ]
  },
  {
   "cell_type": "code",
   "execution_count": 5,
   "id": "ba17e8fb-a34c-456d-87a7-8534b3bb3443",
   "metadata": {
    "tags": []
   },
   "outputs": [
    {
     "name": "stdout",
     "output_type": "stream",
     "text": [
      "<KeysViewHDF5 []>\n"
     ]
    }
   ],
   "source": []
  },
  {
   "cell_type": "code",
   "execution_count": null,
   "id": "e18b86a7-9b2f-4043-96a4-7bac60a00a1c",
   "metadata": {},
   "outputs": [],
   "source": []
  }
 ],
 "metadata": {
  "kernelspec": {
   "display_name": "Python 3",
   "language": "python",
   "name": "python3"
  },
  "language_info": {
   "codemirror_mode": {
    "name": "ipython",
    "version": 3
   },
   "file_extension": ".py",
   "mimetype": "text/x-python",
   "name": "python",
   "nbconvert_exporter": "python",
   "pygments_lexer": "ipython3",
   "version": "3.6.13"
  }
 },
 "nbformat": 4,
 "nbformat_minor": 5
}
